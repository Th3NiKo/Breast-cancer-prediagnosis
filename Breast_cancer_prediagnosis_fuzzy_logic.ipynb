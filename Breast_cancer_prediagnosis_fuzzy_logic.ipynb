{
  "nbformat": 4,
  "nbformat_minor": 0,
  "metadata": {
    "colab": {
      "name": "Breast cancer prediagnosis - fuzzy logic.ipynb",
      "provenance": [],
      "toc_visible": true
    },
    "kernelspec": {
      "name": "python3",
      "display_name": "Python 3"
    }
  },
  "cells": [
    {
      "cell_type": "markdown",
      "metadata": {
        "id": "KLgJIHhHzovI",
        "colab_type": "text"
      },
      "source": [
        "## Breast cancer prediagnosis ver. 1.0\n",
        "![alt text](https://lh5.googleusercontent.com/tQSIQYMMyNy4X-EsYF6WH2aA90otBV8VlBBairvc5XQegHh7lZ6JxESjD7WBWt71mGGMAYLlyLNPymN0UlyP-nlz1quGd59GO9_aaUtSQWNbh_yg8_3CNSERdO3S8dKFBggco_yN)\n",
        "\n",
        "Based on: [Fuzzy method for pre-diagnosis of breast cancer from the Fine Needle Aspirate analysis](https://www.ncbi.nlm.nih.gov/pmc/articles/PMC3772701/?fbclid=IwAR1al0TQdSuaN-L1Kg90JEWiRpEM4WVaUfCwGT9tUcMzqLABkaZxprNmfeU)"
      ]
    },
    {
      "cell_type": "markdown",
      "metadata": {
        "id": "FIS46RW2zm1y",
        "colab_type": "text"
      },
      "source": [
        "# **Load data**"
      ]
    },
    {
      "cell_type": "markdown",
      "metadata": {
        "id": "rFzg-srVzaHm",
        "colab_type": "text"
      },
      "source": [
        "**Download data**"
      ]
    },
    {
      "cell_type": "code",
      "metadata": {
        "id": "a3b9Txc6ypOO",
        "colab_type": "code",
        "colab": {}
      },
      "source": [
        "!wget https://archive.ics.uci.edu/ml/machine-learning-databases/breast-cancer-wisconsin/wdbc.data"
      ],
      "execution_count": null,
      "outputs": []
    },
    {
      "cell_type": "code",
      "metadata": {
        "id": "KKaom0nLzl1p",
        "colab_type": "code",
        "colab": {}
      },
      "source": [
        "import pandas as pd\n",
        "\n",
        "column_names = [ \"id\", \"diagnosis\", \"radius_mean\", \"texture_mean\", \"perimeter_mean\", \"area_mean\", \"smoothness_mean\", \"compactness_mean\", \"concavity_mean\", \"concave_points_mean\",\"symmetry_mean\",\n",
        "                \"fractal_dimension_mean\", \"radius_se\", \"texture_se\", \"perimeter_se\", \"area_se\", \"smoothness_se\", \"compactness_se\", \"concavity_se\", \"concave points_se\", \"symmetry_se\",\n",
        "                \"fractal_dimension_se\", \"radius_worst\", \"texture_worst\", \"perimeter_worst\", \"area_worst\", \"smoothness_worst\", \"compactness_worst\", \"concavity_worst\", \"concave points_worst\",\n",
        "                \"symmetry_worst\", \"fractal_dimension_worst\" ]\n",
        "                \n",
        "data = pd.read_csv(\"wdbc.data\", names=column_names, header=None, index_col=[0])"
      ],
      "execution_count": null,
      "outputs": []
    },
    {
      "cell_type": "markdown",
      "metadata": {
        "id": "xmDyqiKPaHPM",
        "colab_type": "text"
      },
      "source": [
        "**Count uniformity and homogenity**"
      ]
    },
    {
      "cell_type": "code",
      "metadata": {
        "id": "9Z7SBCvxaMHa",
        "colab_type": "code",
        "colab": {}
      },
      "source": [
        "data['uniformity'] = data.apply(lambda row: row.radius_worst - row.radius_mean, axis=1)\n",
        "data['homogenity'] = data.apply(lambda row: row.symmetry_worst - row.symmetry_mean, axis=1)"
      ],
      "execution_count": null,
      "outputs": []
    },
    {
      "cell_type": "code",
      "metadata": {
        "id": "pTc48Wri2aA3",
        "colab_type": "code",
        "colab": {
          "base_uri": "https://localhost:8080/",
          "height": 262
        },
        "outputId": "6dcaa7db-2f68-47db-f796-22115edc0dc3"
      },
      "source": [
        "data.sample(5)"
      ],
      "execution_count": null,
      "outputs": [
        {
          "output_type": "execute_result",
          "data": {
            "text/html": [
              "<div>\n",
              "<style scoped>\n",
              "    .dataframe tbody tr th:only-of-type {\n",
              "        vertical-align: middle;\n",
              "    }\n",
              "\n",
              "    .dataframe tbody tr th {\n",
              "        vertical-align: top;\n",
              "    }\n",
              "\n",
              "    .dataframe thead th {\n",
              "        text-align: right;\n",
              "    }\n",
              "</style>\n",
              "<table border=\"1\" class=\"dataframe\">\n",
              "  <thead>\n",
              "    <tr style=\"text-align: right;\">\n",
              "      <th></th>\n",
              "      <th>diagnosis</th>\n",
              "      <th>radius_mean</th>\n",
              "      <th>texture_mean</th>\n",
              "      <th>perimeter_mean</th>\n",
              "      <th>area_mean</th>\n",
              "      <th>smoothness_mean</th>\n",
              "      <th>compactness_mean</th>\n",
              "      <th>concavity_mean</th>\n",
              "      <th>concave_points_mean</th>\n",
              "      <th>symmetry_mean</th>\n",
              "      <th>fractal_dimension_mean</th>\n",
              "      <th>radius_se</th>\n",
              "      <th>texture_se</th>\n",
              "      <th>perimeter_se</th>\n",
              "      <th>area_se</th>\n",
              "      <th>smoothness_se</th>\n",
              "      <th>compactness_se</th>\n",
              "      <th>concavity_se</th>\n",
              "      <th>concave points_se</th>\n",
              "      <th>symmetry_se</th>\n",
              "      <th>fractal_dimension_se</th>\n",
              "      <th>radius_worst</th>\n",
              "      <th>texture_worst</th>\n",
              "      <th>perimeter_worst</th>\n",
              "      <th>area_worst</th>\n",
              "      <th>smoothness_worst</th>\n",
              "      <th>compactness_worst</th>\n",
              "      <th>concavity_worst</th>\n",
              "      <th>concave points_worst</th>\n",
              "      <th>symmetry_worst</th>\n",
              "      <th>fractal_dimension_worst</th>\n",
              "      <th>uniformity</th>\n",
              "      <th>homogenity</th>\n",
              "    </tr>\n",
              "    <tr>\n",
              "      <th>id</th>\n",
              "      <th></th>\n",
              "      <th></th>\n",
              "      <th></th>\n",
              "      <th></th>\n",
              "      <th></th>\n",
              "      <th></th>\n",
              "      <th></th>\n",
              "      <th></th>\n",
              "      <th></th>\n",
              "      <th></th>\n",
              "      <th></th>\n",
              "      <th></th>\n",
              "      <th></th>\n",
              "      <th></th>\n",
              "      <th></th>\n",
              "      <th></th>\n",
              "      <th></th>\n",
              "      <th></th>\n",
              "      <th></th>\n",
              "      <th></th>\n",
              "      <th></th>\n",
              "      <th></th>\n",
              "      <th></th>\n",
              "      <th></th>\n",
              "      <th></th>\n",
              "      <th></th>\n",
              "      <th></th>\n",
              "      <th></th>\n",
              "      <th></th>\n",
              "      <th></th>\n",
              "      <th></th>\n",
              "      <th></th>\n",
              "      <th></th>\n",
              "    </tr>\n",
              "  </thead>\n",
              "  <tbody>\n",
              "    <tr>\n",
              "      <th>894604</th>\n",
              "      <td>B</td>\n",
              "      <td>10.25</td>\n",
              "      <td>16.18</td>\n",
              "      <td>66.52</td>\n",
              "      <td>324.2</td>\n",
              "      <td>0.10610</td>\n",
              "      <td>0.11110</td>\n",
              "      <td>0.067260</td>\n",
              "      <td>0.039650</td>\n",
              "      <td>0.1743</td>\n",
              "      <td>0.07279</td>\n",
              "      <td>0.3677</td>\n",
              "      <td>1.4710</td>\n",
              "      <td>1.597</td>\n",
              "      <td>22.68</td>\n",
              "      <td>0.010490</td>\n",
              "      <td>0.042650</td>\n",
              "      <td>0.040040</td>\n",
              "      <td>0.015440</td>\n",
              "      <td>0.02719</td>\n",
              "      <td>0.007596</td>\n",
              "      <td>11.28</td>\n",
              "      <td>20.61</td>\n",
              "      <td>71.53</td>\n",
              "      <td>390.4</td>\n",
              "      <td>0.14020</td>\n",
              "      <td>0.23600</td>\n",
              "      <td>0.18980</td>\n",
              "      <td>0.09744</td>\n",
              "      <td>0.2608</td>\n",
              "      <td>0.09702</td>\n",
              "      <td>1.03</td>\n",
              "      <td>0.0865</td>\n",
              "    </tr>\n",
              "    <tr>\n",
              "      <th>909445</th>\n",
              "      <td>M</td>\n",
              "      <td>17.27</td>\n",
              "      <td>25.42</td>\n",
              "      <td>112.40</td>\n",
              "      <td>928.8</td>\n",
              "      <td>0.08331</td>\n",
              "      <td>0.11090</td>\n",
              "      <td>0.120400</td>\n",
              "      <td>0.057360</td>\n",
              "      <td>0.1467</td>\n",
              "      <td>0.05407</td>\n",
              "      <td>0.5100</td>\n",
              "      <td>1.6790</td>\n",
              "      <td>3.283</td>\n",
              "      <td>58.38</td>\n",
              "      <td>0.008109</td>\n",
              "      <td>0.043080</td>\n",
              "      <td>0.049420</td>\n",
              "      <td>0.017420</td>\n",
              "      <td>0.01594</td>\n",
              "      <td>0.003739</td>\n",
              "      <td>20.38</td>\n",
              "      <td>35.46</td>\n",
              "      <td>132.80</td>\n",
              "      <td>1284.0</td>\n",
              "      <td>0.14360</td>\n",
              "      <td>0.41220</td>\n",
              "      <td>0.50360</td>\n",
              "      <td>0.17390</td>\n",
              "      <td>0.2500</td>\n",
              "      <td>0.07944</td>\n",
              "      <td>3.11</td>\n",
              "      <td>0.1033</td>\n",
              "    </tr>\n",
              "    <tr>\n",
              "      <th>88203002</th>\n",
              "      <td>B</td>\n",
              "      <td>11.22</td>\n",
              "      <td>33.81</td>\n",
              "      <td>70.79</td>\n",
              "      <td>386.8</td>\n",
              "      <td>0.07780</td>\n",
              "      <td>0.03574</td>\n",
              "      <td>0.004967</td>\n",
              "      <td>0.006434</td>\n",
              "      <td>0.1845</td>\n",
              "      <td>0.05828</td>\n",
              "      <td>0.2239</td>\n",
              "      <td>1.6470</td>\n",
              "      <td>1.489</td>\n",
              "      <td>15.46</td>\n",
              "      <td>0.004359</td>\n",
              "      <td>0.006813</td>\n",
              "      <td>0.003223</td>\n",
              "      <td>0.003419</td>\n",
              "      <td>0.01916</td>\n",
              "      <td>0.002534</td>\n",
              "      <td>12.36</td>\n",
              "      <td>41.78</td>\n",
              "      <td>78.44</td>\n",
              "      <td>470.9</td>\n",
              "      <td>0.09994</td>\n",
              "      <td>0.06885</td>\n",
              "      <td>0.02318</td>\n",
              "      <td>0.03002</td>\n",
              "      <td>0.2911</td>\n",
              "      <td>0.07307</td>\n",
              "      <td>1.14</td>\n",
              "      <td>0.1066</td>\n",
              "    </tr>\n",
              "    <tr>\n",
              "      <th>873885</th>\n",
              "      <td>M</td>\n",
              "      <td>15.28</td>\n",
              "      <td>22.41</td>\n",
              "      <td>98.92</td>\n",
              "      <td>710.6</td>\n",
              "      <td>0.09057</td>\n",
              "      <td>0.10520</td>\n",
              "      <td>0.053750</td>\n",
              "      <td>0.032630</td>\n",
              "      <td>0.1727</td>\n",
              "      <td>0.06317</td>\n",
              "      <td>0.2054</td>\n",
              "      <td>0.4956</td>\n",
              "      <td>1.344</td>\n",
              "      <td>19.53</td>\n",
              "      <td>0.003290</td>\n",
              "      <td>0.013950</td>\n",
              "      <td>0.017740</td>\n",
              "      <td>0.006009</td>\n",
              "      <td>0.01172</td>\n",
              "      <td>0.002575</td>\n",
              "      <td>17.80</td>\n",
              "      <td>28.03</td>\n",
              "      <td>113.80</td>\n",
              "      <td>973.1</td>\n",
              "      <td>0.13010</td>\n",
              "      <td>0.32990</td>\n",
              "      <td>0.36300</td>\n",
              "      <td>0.12260</td>\n",
              "      <td>0.3175</td>\n",
              "      <td>0.09772</td>\n",
              "      <td>2.52</td>\n",
              "      <td>0.1448</td>\n",
              "    </tr>\n",
              "    <tr>\n",
              "      <th>877989</th>\n",
              "      <td>M</td>\n",
              "      <td>17.54</td>\n",
              "      <td>19.32</td>\n",
              "      <td>115.10</td>\n",
              "      <td>951.6</td>\n",
              "      <td>0.08968</td>\n",
              "      <td>0.11980</td>\n",
              "      <td>0.103600</td>\n",
              "      <td>0.074880</td>\n",
              "      <td>0.1506</td>\n",
              "      <td>0.05491</td>\n",
              "      <td>0.3971</td>\n",
              "      <td>0.8282</td>\n",
              "      <td>3.088</td>\n",
              "      <td>40.73</td>\n",
              "      <td>0.006090</td>\n",
              "      <td>0.025690</td>\n",
              "      <td>0.027130</td>\n",
              "      <td>0.013450</td>\n",
              "      <td>0.01594</td>\n",
              "      <td>0.002658</td>\n",
              "      <td>20.42</td>\n",
              "      <td>25.84</td>\n",
              "      <td>139.50</td>\n",
              "      <td>1239.0</td>\n",
              "      <td>0.13810</td>\n",
              "      <td>0.34200</td>\n",
              "      <td>0.35080</td>\n",
              "      <td>0.19390</td>\n",
              "      <td>0.2928</td>\n",
              "      <td>0.07867</td>\n",
              "      <td>2.88</td>\n",
              "      <td>0.1422</td>\n",
              "    </tr>\n",
              "  </tbody>\n",
              "</table>\n",
              "</div>"
            ],
            "text/plain": [
              "         diagnosis  radius_mean  ...  uniformity  homogenity\n",
              "id                               ...                        \n",
              "894604           B        10.25  ...        1.03      0.0865\n",
              "909445           M        17.27  ...        3.11      0.1033\n",
              "88203002         B        11.22  ...        1.14      0.1066\n",
              "873885           M        15.28  ...        2.52      0.1448\n",
              "877989           M        17.54  ...        2.88      0.1422\n",
              "\n",
              "[5 rows x 33 columns]"
            ]
          },
          "metadata": {
            "tags": []
          },
          "execution_count": 44
        }
      ]
    },
    {
      "cell_type": "code",
      "metadata": {
        "id": "eUMLl83zgRnS",
        "colab_type": "code",
        "colab": {}
      },
      "source": [
        "data_clean = data[[\"diagnosis\", \"area_mean\", \"perimeter_mean\", \"uniformity\", \"homogenity\"]]"
      ],
      "execution_count": null,
      "outputs": []
    },
    {
      "cell_type": "code",
      "metadata": {
        "id": "sxF0fqh6gnv1",
        "colab_type": "code",
        "colab": {
          "base_uri": "https://localhost:8080/",
          "height": 225
        },
        "outputId": "40ae3f06-53ad-4621-fd36-6639ab2ff83c"
      },
      "source": [
        "data_clean.sample(5)"
      ],
      "execution_count": null,
      "outputs": [
        {
          "output_type": "execute_result",
          "data": {
            "text/html": [
              "<div>\n",
              "<style scoped>\n",
              "    .dataframe tbody tr th:only-of-type {\n",
              "        vertical-align: middle;\n",
              "    }\n",
              "\n",
              "    .dataframe tbody tr th {\n",
              "        vertical-align: top;\n",
              "    }\n",
              "\n",
              "    .dataframe thead th {\n",
              "        text-align: right;\n",
              "    }\n",
              "</style>\n",
              "<table border=\"1\" class=\"dataframe\">\n",
              "  <thead>\n",
              "    <tr style=\"text-align: right;\">\n",
              "      <th></th>\n",
              "      <th>diagnosis</th>\n",
              "      <th>area_mean</th>\n",
              "      <th>perimeter_mean</th>\n",
              "      <th>uniformity</th>\n",
              "      <th>homogenity</th>\n",
              "    </tr>\n",
              "    <tr>\n",
              "      <th>id</th>\n",
              "      <th></th>\n",
              "      <th></th>\n",
              "      <th></th>\n",
              "      <th></th>\n",
              "      <th></th>\n",
              "    </tr>\n",
              "  </thead>\n",
              "  <tbody>\n",
              "    <tr>\n",
              "      <th>9011495</th>\n",
              "      <td>B</td>\n",
              "      <td>458.4</td>\n",
              "      <td>78.31</td>\n",
              "      <td>2.080</td>\n",
              "      <td>0.1523</td>\n",
              "    </tr>\n",
              "    <tr>\n",
              "      <th>8810436</th>\n",
              "      <td>B</td>\n",
              "      <td>725.5</td>\n",
              "      <td>98.17</td>\n",
              "      <td>2.110</td>\n",
              "      <td>0.0961</td>\n",
              "    </tr>\n",
              "    <tr>\n",
              "      <th>88299702</th>\n",
              "      <td>M</td>\n",
              "      <td>1670.0</td>\n",
              "      <td>153.50</td>\n",
              "      <td>7.800</td>\n",
              "      <td>0.1194</td>\n",
              "    </tr>\n",
              "    <tr>\n",
              "      <th>923780</th>\n",
              "      <td>B</td>\n",
              "      <td>378.4</td>\n",
              "      <td>71.49</td>\n",
              "      <td>0.890</td>\n",
              "      <td>0.1139</td>\n",
              "    </tr>\n",
              "    <tr>\n",
              "      <th>915186</th>\n",
              "      <td>B</td>\n",
              "      <td>248.7</td>\n",
              "      <td>61.49</td>\n",
              "      <td>1.012</td>\n",
              "      <td>0.0660</td>\n",
              "    </tr>\n",
              "  </tbody>\n",
              "</table>\n",
              "</div>"
            ],
            "text/plain": [
              "         diagnosis  area_mean  perimeter_mean  uniformity  homogenity\n",
              "id                                                                   \n",
              "9011495          B      458.4           78.31       2.080      0.1523\n",
              "8810436          B      725.5           98.17       2.110      0.0961\n",
              "88299702         M     1670.0          153.50       7.800      0.1194\n",
              "923780           B      378.4           71.49       0.890      0.1139\n",
              "915186           B      248.7           61.49       1.012      0.0660"
            ]
          },
          "metadata": {
            "tags": []
          },
          "execution_count": 31
        }
      ]
    },
    {
      "cell_type": "markdown",
      "metadata": {
        "id": "9KQc2ESKenz4",
        "colab_type": "text"
      },
      "source": [
        "# **Create FCL**"
      ]
    },
    {
      "cell_type": "markdown",
      "metadata": {
        "id": "uF5_vfKg3tUe",
        "colab_type": "text"
      },
      "source": [
        "**Prepare FCL Libraries**"
      ]
    },
    {
      "cell_type": "code",
      "metadata": {
        "id": "upmC3yoruAsh",
        "colab_type": "code",
        "colab": {}
      },
      "source": [
        "!pip install scikit-fuzzy \n",
        "!pip install ply #For parser"
      ],
      "execution_count": null,
      "outputs": []
    },
    {
      "cell_type": "code",
      "metadata": {
        "id": "3fAbDrR1Bz3l",
        "colab_type": "code",
        "colab": {}
      },
      "source": [
        "#FCL Parser to scikit-fuzzy\n",
        "!git clone https://github.com/jfpower/fcl-for-scikit-fuzzy\n",
        "!mv fcl-for-scikit-fuzzy/ fcl/"
      ],
      "execution_count": null,
      "outputs": []
    },
    {
      "cell_type": "code",
      "metadata": {
        "id": "Jjyk9fjQ7pKA",
        "colab_type": "code",
        "colab": {}
      },
      "source": [
        "import skfuzzy as fuzz\n",
        "import skfuzzy.control as ctrl\n",
        "import sys\n",
        "import numpy as np\n",
        "sys.path.insert(1, '/content/fcl')"
      ],
      "execution_count": null,
      "outputs": []
    },
    {
      "cell_type": "code",
      "metadata": {
        "id": "OBPlTlCGBK7x",
        "colab_type": "code",
        "colab": {}
      },
      "source": [
        "from fcl_parser import FCLParser"
      ],
      "execution_count": null,
      "outputs": []
    },
    {
      "cell_type": "markdown",
      "metadata": {
        "id": "2A2Lv0NrDcbR",
        "colab_type": "text"
      },
      "source": [
        "**Prepare FCL File**"
      ]
    },
    {
      "cell_type": "code",
      "metadata": {
        "id": "WJocxrm9Dbuj",
        "colab_type": "code",
        "colab": {
          "base_uri": "https://localhost:8080/",
          "height": 17
        },
        "outputId": "5dfa167f-7933-4f13-8c46-3801ed6310e5"
      },
      "source": [
        "%%shell\n",
        "cat << EOT > sterownik.fcl\n",
        "FUNCTION_BLOCK prognose\n",
        "\n",
        "VAR_INPUT\n",
        "\tarea: REAL;\n",
        "\tperimeter: REAL;\n",
        "  uniformity: REAL;\n",
        "  homogenity: REAL;\n",
        "END_VAR\n",
        "\n",
        "VAR_OUTPUT\n",
        "  diagnosis: REAL;\n",
        "END_VAR\n",
        "\n",
        "FUZZIFY area\n",
        "\tTERM small := (185, 1) (748, 1) (1000,0);\n",
        "\tTERM large := (508, 0) (2194, 1)\n",
        "  RANGE := (185 .. 4255);\n",
        "END_FUZZIFY\n",
        "\n",
        "FUZZIFY perimeter\n",
        "\tTERM small := (50.0, 1) (92.5, 1) (103,0);\n",
        "\tTERM large := (85, 0) (159, 1)\n",
        "  RANGE := (50.0 .. 252.0);\n",
        "END_FUZZIFY\n",
        "\n",
        "FUZZIFY uniformity\n",
        "\tTERM more := (0.0, 1) (1.66, 1) (2.6,0);\n",
        "\tTERM less := (0.65, 0) (6.2, 1)\n",
        "  RANGE := (0.0 .. 12.0);\n",
        "END_FUZZIFY\n",
        "\n",
        "FUZZIFY homogenity\n",
        "\tTERM more := (0.0, 1) (0.12, 1) (0.19,0);\n",
        "\tTERM less := (0.03, 0) (0.215, 1)\n",
        "  RANGE := (0.0 .. 0.45);\n",
        "END_FUZZIFY\n",
        "\n",
        "DEFUZZIFY diagnosis\n",
        "\tTERM benign := (0.0, 1) (0.4, 1) (0.5, 0)\n",
        "\tTERM undefined := (0.5, 0) (0.55, 1) (0.6, 0)\n",
        "\tTERM malignant := (0.6, 0) (0.7, 1)\n",
        "\tMETHOD : COG;\n",
        "\tDEFAULT := 0.55;\t\t\n",
        "  RANGE := (0.0 .. 1.0);\n",
        "END_DEFUZZIFY\n",
        "\n",
        "RULEBLOCK No1\n",
        "\tAND : MIN;\n",
        "\tACT : MIN;\n",
        "\tACCU : MAX;\n",
        "\n",
        "\tRULE 1 : IF area IS small and perimeter is small and uniformity is more and homogenity is more THEN diagnosis is benign\n",
        "\n",
        "  RULE 2 : IF area IS small and perimeter is small and uniformity is more and homogenity is less THEN diagnosis is undefined\n",
        "  RULE 3 : IF area IS small and perimeter is small and uniformity is less and homogenity is more THEN diagnosis is undefined\n",
        "  RULE 4 : IF area IS small and perimeter is small and uniformity is less and homogenity is less THEN diagnosis is undefined\n",
        "  RULE 5 : IF area IS small and perimeter is large and uniformity is more and homogenity is more THEN diagnosis is undefined\n",
        "  RULE 6 : IF area IS small and perimeter is large and uniformity is more and homogenity is less THEN diagnosis is undefined\n",
        "  RULE 7 : IF area IS small and perimeter is large and uniformity is less and homogenity is more THEN diagnosis is undefined\n",
        "  RULE 8 : IF area IS small and perimeter is large and uniformity is less and homogenity is less THEN diagnosis is undefined\n",
        "  RULE 9 : IF area IS large and perimeter is small and uniformity is more and homogenity is more THEN diagnosis is undefined\n",
        "  RULE 10 : IF area IS large and perimeter is small and uniformity is more and homogenity is less THEN diagnosis is undefined\n",
        "  RULE 11 : IF area IS large and perimeter is small and uniformity is less and homogenity is more THEN diagnosis is undefined\n",
        "  RULE 12 : IF area IS large and perimeter is small and uniformity is less and homogenity is less THEN diagnosis is undefined\n",
        "  RULE 13 : IF area IS large and perimeter is large and uniformity is more and homogenity is more THEN diagnosis is undefined\n",
        "  RULE 14 : IF area IS large and perimeter is large and uniformity is more and homogenity is less THEN diagnosis is undefined\n",
        "  RULE 15 : IF area IS large and perimeter is large and uniformity is less and homogenity is more THEN diagnosis is undefined\n",
        "\n",
        "\tRULE 16 : IF area IS large and perimeter is large and uniformity is less and homogenity is less THEN diagnosis is malignant \n",
        "END_RULEBLOCK\n",
        "\n",
        "END_FUNCTION_BLOCK\n",
        "EOT"
      ],
      "execution_count": null,
      "outputs": [
        {
          "output_type": "execute_result",
          "data": {
            "text/plain": [
              ""
            ]
          },
          "metadata": {
            "tags": []
          },
          "execution_count": 36
        }
      ]
    },
    {
      "cell_type": "code",
      "metadata": {
        "id": "hi-lIhlOC8OH",
        "colab_type": "code",
        "colab": {}
      },
      "source": [
        "#Furia vec\n",
        "p = FCLParser()\n",
        "p.read_fcl_file('sterownik.fcl')\n",
        "cs = ctrl.ControlSystem(p.rules)\n",
        "system = ctrl.ControlSystemSimulation(cs)"
      ],
      "execution_count": null,
      "outputs": []
    },
    {
      "cell_type": "markdown",
      "metadata": {
        "id": "yWwlSgDHe0gM",
        "colab_type": "text"
      },
      "source": [
        "# **Simulate**"
      ]
    },
    {
      "cell_type": "markdown",
      "metadata": {
        "id": "BMdIIWs8dDdb",
        "colab_type": "text"
      },
      "source": [
        "**Basic tests**"
      ]
    },
    {
      "cell_type": "code",
      "metadata": {
        "id": "54heRtJiQD0_",
        "colab_type": "code",
        "colab": {
          "base_uri": "https://localhost:8080/",
          "height": 67
        },
        "outputId": "738db99e-66c7-487b-947e-f299892038d5"
      },
      "source": [
        "#TEST 1 BENIGN\n",
        "system.input['area'] = 400\n",
        "system.input['perimeter'] = 80\n",
        "system.input['uniformity'] = 0.5\n",
        "system.input['homogenity'] = 0.02\n",
        "system.compute()\n",
        "print(system.output['diagnosis'])\n",
        "\n",
        "#TEST 2 MALIGNANT\n",
        "system.input['area'] = 3000\n",
        "system.input['perimeter'] = 220\n",
        "system.input['uniformity'] = 10\n",
        "system.input['homogenity'] = 0.38\n",
        "system.compute()\n",
        "print(system.output['diagnosis'])\n",
        "\n",
        "#TEST 3 UNDEFINED\n",
        "system.input['area'] = 400\n",
        "system.input['perimeter'] = 220\n",
        "system.input['uniformity'] = 0.5\n",
        "system.input['homogenity'] = 0.38\n",
        "system.compute()\n",
        "print(system.output['diagnosis'])"
      ],
      "execution_count": null,
      "outputs": [
        {
          "output_type": "stream",
          "text": [
            "0.22592592592592603\n",
            "0.8233061127029606\n",
            "0.5499999999999998\n"
          ],
          "name": "stdout"
        }
      ]
    },
    {
      "cell_type": "markdown",
      "metadata": {
        "id": "6-KSrc7MdGqA",
        "colab_type": "text"
      },
      "source": [
        "**Tests on data**"
      ]
    },
    {
      "cell_type": "code",
      "metadata": {
        "id": "TNKgX7Lwhx9l",
        "colab_type": "code",
        "colab": {}
      },
      "source": [
        "def give_label(predict_value):\n",
        "  if predict_value >= 0.7:\n",
        "    return \"M\"\n",
        "  elif predict_value <= 0.4:\n",
        "    return \"B\"\n",
        "  return \"Undef\""
      ],
      "execution_count": null,
      "outputs": []
    },
    {
      "cell_type": "code",
      "metadata": {
        "id": "8z3WvYKJdISU",
        "colab_type": "code",
        "colab": {}
      },
      "source": [
        "#Save predictions\n",
        "output_values = []\n",
        "output_labels = []\n",
        "\n",
        "#Accuracy variables\n",
        "accuracy_sum = 0\n",
        "all_predicted = 0\n",
        "\n",
        "#Recall / precision / true negative rate\n",
        "TP = 0\n",
        "TN = 0\n",
        "FN = 0\n",
        "FP = 0\n",
        "\n",
        "for index, row in data_clean.iterrows():\n",
        "  system.input['area'] = row['area_mean']\n",
        "  system.input['perimeter'] = row['perimeter_mean']\n",
        "  system.input['uniformity'] = row['uniformity']\n",
        "  system.input['homogenity'] = row['homogenity']\n",
        "  system.compute()\n",
        "\n",
        "  out_val = system.output['diagnosis']\n",
        "  label = give_label(out_val)\n",
        "\n",
        "  output_values.append(out_val)\n",
        "  output_labels.append(label)\n",
        "\n",
        "  #Get accuracy\n",
        "  if label != \"Undef\":\n",
        "    all_predicted += 1\n",
        "    if label == row['diagnosis']: #Predicted good\n",
        "      accuracy_sum += 1\n",
        "      if label == 'M': #Predicted Malignant good\n",
        "        TP += 1\n",
        "      if label == 'B':  #Predicted Benign good\n",
        "        TN += 1\n",
        "    else: #Predicted bad\n",
        "      if label == 'M': #Predicted Malignant bad\n",
        "        FN += 1\n",
        "      if label == 'B': #Predicted Benign bad\n",
        "        FP += 1"
      ],
      "execution_count": null,
      "outputs": []
    },
    {
      "cell_type": "code",
      "metadata": {
        "id": "vZL3aKorB2pb",
        "colab_type": "code",
        "colab": {
          "base_uri": "https://localhost:8080/",
          "height": 202
        },
        "outputId": "6153b933-a770-435e-f3c5-60f249c0b23d"
      },
      "source": [
        "recall = TP / (TP + FN)\n",
        "precision = TP / (TP + FP)\n",
        "specificity = TN / (TN + FP)\n",
        "f1 = 2 * (precision * recall) / (precision + recall)\n",
        "f2 = 5 * (precision * recall) / (4 * precision + recall)\n",
        "print(\"Dataset size: %d\" % len(data_clean.index))\n",
        "print(\"Predicted proportions: %f\" % (all_predicted / len(data_clean.index)))\n",
        "print(\"Undefined count: %d\" % (len(data_clean.index) - all_predicted))\n",
        "print(\"---------------------------\")\n",
        "print(\"Accuracy: %f\" % (accuracy_sum / all_predicted))\n",
        "print(\"Recall: %f\" %  (recall)) # Osobie z nowotworem złośliwym powiedzielismy ze jest łagodny !!!!!!!!!!\n",
        "print(\"Precision: %f\" %  (precision)) # Osobie z nowotorem łagodnym powiedzielismy ze jest złośliwy\n",
        "print(\"Specificity: %f\" %  (specificity))\n",
        "print(\"---------------------------\")\n",
        "print(\"F1.0: %f\" % (f1))\n",
        "print(\"F2.0: %f\" % (f2)) #Recall wazniejszy"
      ],
      "execution_count": null,
      "outputs": [
        {
          "output_type": "stream",
          "text": [
            "Dataset size: 569\n",
            "Predicted proportions: 0.887522\n",
            "Undefined count: 64\n",
            "---------------------------\n",
            "Accuracy: 0.952475\n",
            "Recall: 0.972603\n",
            "Precision: 0.876543\n",
            "Specificity: 0.944290\n",
            "---------------------------\n",
            "F1.0: 0.922078\n",
            "F2.0: 0.951743\n"
          ],
          "name": "stdout"
        }
      ]
    },
    {
      "cell_type": "markdown",
      "metadata": {
        "id": "WpS4uiJUgvSI",
        "colab_type": "text"
      },
      "source": [
        "# **Diagrams**"
      ]
    },
    {
      "cell_type": "markdown",
      "metadata": {
        "id": "V6qrbGSaz5lG",
        "colab_type": "text"
      },
      "source": [
        "**Draw inputs**"
      ]
    },
    {
      "cell_type": "code",
      "metadata": {
        "id": "2qJhsCJUzKrx",
        "colab_type": "code",
        "colab": {}
      },
      "source": [
        "import matplotlib.pyplot as plt\n",
        "plt.style.use('seaborn-darkgrid')"
      ],
      "execution_count": null,
      "outputs": []
    },
    {
      "cell_type": "code",
      "metadata": {
        "id": "absjr_8gZ5k4",
        "colab_type": "code",
        "colab": {
          "base_uri": "https://localhost:8080/",
          "height": 1000
        },
        "outputId": "a8b0e701-2d8e-425c-98a0-ee7ed54ccc37"
      },
      "source": [
        "p.get_var_defn(\"area\").view()\n",
        "p.get_var_defn(\"perimeter\").view()\n",
        "p.get_var_defn(\"uniformity\").view()\n",
        "p.get_var_defn(\"homogenity\").view()\n",
        "p.get_var_defn(\"diagnosis\").view()"
      ],
      "execution_count": null,
      "outputs": [
        {
          "output_type": "display_data",
          "data": {
            "image/png": "[encoded data removed]",
            "text/plain": [
              "<Figure size 432x288 with 1 Axes>"
            ]
          },
          "metadata": {
            "tags": []
          }
        },
        {
          "output_type": "display_data",
          "data": {
            "image/png": "[encoded data removed]",
            "text/plain": [
              "<Figure size 432x288 with 1 Axes>"
            ]
          },
          "metadata": {
            "tags": []
          }
        },
        {
          "output_type": "display_data",
          "data": {
            "image/png": "[encoded data removed]",
            "text/plain": [
              "<Figure size 432x288 with 1 Axes>"
            ]
          },
          "metadata": {
            "tags": []
          }
        },
        {
          "output_type": "display_data",
          "data": {
            "image/png": "[encoded data removed]",
            "text/plain": [
              "<Figure size 432x288 with 1 Axes>"
            ]
          },
          "metadata": {
            "tags": []
          }
        },
        {
          "output_type": "display_data",
          "data": {
            "image/png": "[encoded data removed]",
            "text/plain": [
              "<Figure size 432x288 with 1 Axes>"
            ]
          },
          "metadata": {
            "tags": []
          }
        }
      ]
    }
  ]
}