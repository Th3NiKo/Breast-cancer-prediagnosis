{
  "nbformat": 4,
  "nbformat_minor": 0,
  "metadata": {
    "colab": {
      "name": "Furia - python wrapper.ipynb",
      "provenance": []
    },
    "kernelspec": {
      "name": "python3",
      "display_name": "Python 3"
    }
  },
  "cells": [
    {
      "cell_type": "markdown",
      "metadata": {
        "id": "UUlB1dhbKUrC",
        "colab_type": "text"
      },
      "source": [
        "# Breast cancer prediagnosis - **FURIA**"
      ]
    },
    {
      "cell_type": "markdown",
      "metadata": {
        "id": "IkLReIGnKaoB",
        "colab_type": "text"
      },
      "source": [
        "**Prepare enviroment**"
      ]
    },
    {
      "cell_type": "code",
      "metadata": {
        "id": "3vaHurqvIH6g",
        "colab_type": "code",
        "colab": {}
      },
      "source": [
        "import os\n",
        "import sys\n",
        "sys.path\n",
        "sys.path.append(\"/usr/lib/jvm/java-11-openjdk-amd64/bin/\")\n",
        "os.environ[\"JAVA_HOME\"] = \"/usr/lib/jvm/java-11-openjdk-amd64/\"\n",
        "!apt-get install build-essential python3-dev\n",
        "!apt-get install python3-pil python3-pygraphviz\n",
        "!apt install openjdk-11-jdk\n",
        "!pip3 install javabridge --no-cache-dir\n",
        "!pip3 install python-weka-wrapper3 --no-cache-dir\n",
        "\n",
        "import weka.core.jvm as jvm"
      ],
      "execution_count": null,
      "outputs": []
    },
    {
      "cell_type": "markdown",
      "metadata": {
        "id": "4HwwvxnhRmUn",
        "colab_type": "text"
      },
      "source": [
        "**Start JVM**"
      ]
    },
    {
      "cell_type": "code",
      "metadata": {
        "id": "7-VzEaUQLhQS",
        "colab_type": "code",
        "colab": {}
      },
      "source": [
        "jvm.start(packages=True)"
      ],
      "execution_count": null,
      "outputs": []
    },
    {
      "cell_type": "markdown",
      "metadata": {
        "id": "BxkhmylvKfs3",
        "colab_type": "text"
      },
      "source": [
        "**Install Furia**"
      ]
    },
    {
      "cell_type": "code",
      "metadata": {
        "id": "mQ1EfHm9KfO9",
        "colab_type": "code",
        "colab": {}
      },
      "source": [
        "import weka.core.packages as packages\n",
        "packages.install_package(\"fuzzyUnorderedRuleInduction\")\n",
        "items = packages.installed_packages()\n",
        "for item in items:\n",
        "    print(item.name + \" \" + item.url)"
      ],
      "execution_count": null,
      "outputs": []
    },
    {
      "cell_type": "markdown",
      "metadata": {
        "id": "76AiTeT6LBhd",
        "colab_type": "text"
      },
      "source": [
        "**Prepare dataset**"
      ]
    },
    {
      "cell_type": "code",
      "metadata": {
        "id": "qbDx1wCnIl7X",
        "colab_type": "code",
        "colab": {}
      },
      "source": [
        "!wget https://archive.ics.uci.edu/ml/machine-learning-databases/breast-cancer-wisconsin/wdbc.data"
      ],
      "execution_count": null,
      "outputs": []
    },
    {
      "cell_type": "code",
      "metadata": {
        "id": "fJt1j3oJIvFF",
        "colab_type": "code",
        "colab": {}
      },
      "source": [
        "import pandas as pd\n",
        "\n",
        "column_names = [ \"id\", \"diagnosis\", \"radius_mean\", \"texture_mean\", \"perimeter_mean\", \"area_mean\", \"smoothness_mean\", \"compactness_mean\", \"concavity_mean\", \"concave_points_mean\",\"symmetry_mean\",\n",
        "                \"fractal_dimension_mean\", \"radius_se\", \"texture_se\", \"perimeter_se\", \"area_se\", \"smoothness_se\", \"compactness_se\", \"concavity_se\", \"concave points_se\", \"symmetry_se\",\n",
        "                \"fractal_dimension_se\", \"radius_worst\", \"texture_worst\", \"perimeter_worst\", \"area_worst\", \"smoothness_worst\", \"compactness_worst\", \"concavity_worst\", \"concave points_worst\",\n",
        "                \"symmetry_worst\", \"fractal_dimension_worst\" ]\n",
        "                \n",
        "dataset = pd.read_csv(\"wdbc.data\", names=column_names, header=None, index_col=[0])"
      ],
      "execution_count": null,
      "outputs": []
    },
    {
      "cell_type": "code",
      "metadata": {
        "id": "KFYDm51jIvhi",
        "colab_type": "code",
        "colab": {}
      },
      "source": [
        "dataset['uniformity'] = dataset.apply(lambda row: row.radius_worst - row.radius_mean, axis=1)\n",
        "dataset['homogenity'] = dataset.apply(lambda row: row.symmetry_worst - row.symmetry_mean, axis=1)"
      ],
      "execution_count": null,
      "outputs": []
    },
    {
      "cell_type": "code",
      "metadata": {
        "id": "hqcxyG5wIzGM",
        "colab_type": "code",
        "colab": {}
      },
      "source": [
        "dataset.to_csv (r'dataset.csv', index = False, header=True)"
      ],
      "execution_count": null,
      "outputs": []
    },
    {
      "cell_type": "markdown",
      "metadata": {
        "id": "pdYetrUILELo",
        "colab_type": "text"
      },
      "source": [
        "**Load dataset in Weka**"
      ]
    },
    {
      "cell_type": "code",
      "metadata": {
        "id": "rgrfQay7IbCr",
        "colab_type": "code",
        "colab": {}
      },
      "source": [
        "import weka.core.converters as converters\n",
        "data = converters.load_any_file(\"dataset.csv\")\n",
        "data.class_is_first()\n",
        "\n",
        "print(data)"
      ],
      "execution_count": null,
      "outputs": []
    },
    {
      "cell_type": "markdown",
      "metadata": {
        "id": "CkdXBmMeR1Fh",
        "colab_type": "text"
      },
      "source": [
        "**Whole dataset Furia rule extraction**"
      ]
    },
    {
      "cell_type": "code",
      "metadata": {
        "id": "b0ZZXMG2IlgS",
        "colab_type": "code",
        "colab": {}
      },
      "source": [
        "from weka.classifiers import Classifier\n",
        "cls = Classifier(classname=\"weka.classifiers.rules.FURIA\")\n",
        "cls.build_classifier(data)\n",
        "\n",
        "predictions = []\n",
        "\n",
        "for index, inst in enumerate(data):\n",
        "    pred = cls.classify_instance(inst)\n",
        "    dist = cls.distribution_for_instance(inst)\n",
        "    predictions.append(round(dist[0]))\n",
        "    print(str(index+1) + \": label index=\" + str(pred) + \", class distribution=\" + str(dist))"
      ],
      "execution_count": null,
      "outputs": []
    },
    {
      "cell_type": "code",
      "metadata": {
        "id": "8jDMABPzNeeb",
        "colab_type": "code",
        "colab": {
          "base_uri": "https://localhost:8080/",
          "height": 289
        },
        "outputId": "0e883062-2935-4705-d46e-4659bddf515d"
      },
      "source": [
        "print(cls)"
      ],
      "execution_count": null,
      "outputs": [
        {
          "output_type": "stream",
          "text": [
            "FURIA rules:\n",
            "===========\n",
            "\n",
            " => diagnosis=M (CF = 0.0)\n",
            "(perimeter_worst in [96.05, 101.7, inf, inf]) and (uniformity in [2.26, 2.3, inf, inf]) => diagnosis=M (CF = 0.97)\n",
            " => diagnosis=M (CF = 0.0)\n",
            " => diagnosis=M (CF = 0.0)\n",
            "(perimeter_worst in [-inf, -inf, 105, 127.3]) => diagnosis=B (CF = 0.88)\n",
            " => diagnosis=B (CF = 0.0)\n",
            " => diagnosis=B (CF = 0.0)\n",
            "(area_worst in [-inf, -inf, 880.8, 989.5]) => diagnosis=B (CF = 0.88)\n",
            " => diagnosis=B (CF = 0.0)\n",
            "(concave_points_mean in [-inf, -inf, 0.0389, 0.04562]) => diagnosis=B (CF = 0.95)\n",
            "\n",
            "Number of Rules : 10\n",
            "\n"
          ],
          "name": "stdout"
        }
      ]
    },
    {
      "cell_type": "markdown",
      "metadata": {
        "id": "QM0ltB8NSVbF",
        "colab_type": "text"
      },
      "source": [
        "**Evaluate**"
      ]
    },
    {
      "cell_type": "code",
      "metadata": {
        "id": "JbBOLe7rPRzI",
        "colab_type": "code",
        "colab": {}
      },
      "source": [
        "#Save predictions\n",
        "output_values = []\n",
        "output_labels = []\n",
        "\n",
        "#Accuracy variables\n",
        "accuracy_sum = 0\n",
        "all_predicted = 0\n",
        "\n",
        "#Recall / precision / true negative rate\n",
        "TP = 0\n",
        "TN = 0\n",
        "FN = 0\n",
        "FP = 0\n",
        "\n",
        "for i, (index, row) in enumerate(dataset.iterrows()):\n",
        "\n",
        "  label = predictions[i]\n",
        "  if label == 0:\n",
        "    label = 'B'\n",
        "  else:\n",
        "    label = 'M'\n",
        "\n",
        "  output_labels.append(label)\n",
        "\n",
        "  #Get accuracy\n",
        "  if label != \"Undef\":\n",
        "    all_predicted += 1\n",
        "    if label == row['diagnosis']: #Predicted good\n",
        "      accuracy_sum += 1\n",
        "      if label == 'M': #Predicted Malignant good\n",
        "        TP += 1\n",
        "      if label == 'B':  #Predicted Benign good\n",
        "        TN += 1\n",
        "    else: #Predicted bad\n",
        "      if label == 'M': #Predicted Malignant bad\n",
        "        FN += 1\n",
        "      if label == 'B': #Predicted Benign bad\n",
        "        FP += 1"
      ],
      "execution_count": null,
      "outputs": []
    },
    {
      "cell_type": "code",
      "metadata": {
        "id": "5AaA5VRlQUpf",
        "colab_type": "code",
        "colab": {
          "base_uri": "https://localhost:8080/",
          "height": 204
        },
        "outputId": "085c6f33-529c-4eed-f1bc-a09c84e0444e"
      },
      "source": [
        "recall = TP / (TP + FN)\n",
        "precision = TP / (TP + FP)\n",
        "specificity = TN / (TN + FP)\n",
        "f1 = 2 * (precision * recall) / (precision + recall)\n",
        "f2 = 5 * (precision * recall) / (4 * precision + recall)\n",
        "print(\"Dataset size: %d\" % len(dataset.index))\n",
        "print(\"Predicted proportions: %f\" % (all_predicted / len(dataset.index)))\n",
        "print(\"Undefined count: %d\" % (len(dataset.index) - all_predicted))\n",
        "print(\"---------------------------\")\n",
        "print(\"Accuracy: %f\" % (accuracy_sum / all_predicted))\n",
        "print(\"Recall: %f\" %  (recall)) \n",
        "print(\"Precision: %f\" %  (precision)) \n",
        "print(\"Specificity: %f\" %  (specificity))\n",
        "print(\"---------------------------\")\n",
        "print(\"F1.0: %f\" % (f1))\n",
        "print(\"F2.0: %f\" % (f2))"
      ],
      "execution_count": null,
      "outputs": [
        {
          "output_type": "stream",
          "text": [
            "Dataset size: 569\n",
            "Predicted proportions: 1.000000\n",
            "Undefined count: 0\n",
            "---------------------------\n",
            "Accuracy: 0.994728\n",
            "Recall: 1.000000\n",
            "Precision: 0.985849\n",
            "Specificity: 0.991667\n",
            "---------------------------\n",
            "F1.0: 0.992874\n",
            "F2.0: 0.997137\n"
          ],
          "name": "stdout"
        }
      ]
    },
    {
      "cell_type": "markdown",
      "metadata": {
        "id": "OdmNsj6QSbUN",
        "colab_type": "text"
      },
      "source": [
        "**Crossvalidation**"
      ]
    },
    {
      "cell_type": "code",
      "metadata": {
        "id": "yOp7y2MhRI4n",
        "colab_type": "code",
        "colab": {
          "base_uri": "https://localhost:8080/",
          "height": 340
        },
        "outputId": "ec95d8e0-01ef-4b3d-957c-48f9b07c95b8"
      },
      "source": [
        "from weka.classifiers import Evaluation\n",
        "from weka.core.classes import Random\n",
        "evl = Evaluation(data)\n",
        "evl.crossvalidate_model(cls, data, 10, Random(2020))\n",
        "\n",
        "\n",
        "print(evl.percent_correct)\n",
        "print(evl.summary())\n",
        "print(evl.class_details())\n",
        "\n",
        "precision = evl.weighted_precision\n",
        "recall = evl.weighted_recall\n",
        "\n",
        "print(\"F2.0: \", end=\" \")\n",
        "print(5 * (precision * recall) / (4 * precision + recall))"
      ],
      "execution_count": null,
      "outputs": [
        {
          "output_type": "stream",
          "text": [
            "96.66080843585237\n",
            "\n",
            "Correctly Classified Instances         550               96.6608 %\n",
            "Incorrectly Classified Instances        19                3.3392 %\n",
            "Kappa statistic                          0.9284\n",
            "Mean absolute error                      0.0469\n",
            "Root mean squared error                  0.1823\n",
            "Relative absolute error                 10.0318 %\n",
            "Root relative squared error             37.7068 %\n",
            "Total Number of Instances              569     \n",
            "\n",
            "=== Detailed Accuracy By Class ===\n",
            "\n",
            "                 TP Rate  FP Rate  Precision  Recall   F-Measure  MCC      ROC Area  PRC Area  Class\n",
            "                 0.948    0.022    0.962      0.948    0.955      0.928    0.976     0.958     M\n",
            "                 0.978    0.052    0.969      0.978    0.974      0.928    0.976     0.975     B\n",
            "Weighted Avg.    0.967    0.041    0.967      0.967    0.967      0.928    0.976     0.969     \n",
            "\n",
            "F2.0:  0.9665999414236072\n"
          ],
          "name": "stdout"
        }
      ]
    },
    {
      "cell_type": "markdown",
      "metadata": {
        "id": "9LcXUcCIFPrZ",
        "colab_type": "text"
      },
      "source": [
        "**Crossvalidation**"
      ]
    },
    {
      "cell_type": "code",
      "metadata": {
        "id": "xbVS8bhQ2cKH",
        "colab_type": "code",
        "colab": {
          "base_uri": "https://localhost:8080/",
          "height": 238
        },
        "outputId": "ff8e1724-de2c-4eb0-9ae2-0c3546c847e1"
      },
      "source": [
        "cls = Classifier(classname=\"weka.classifiers.rules.FURIA\")\n",
        "train,test=data.train_test_split(percentage=80)\n",
        "cls.build_classifier(train)\n",
        "\n",
        "predictions = []\n",
        "good = []\n",
        "\n",
        "for index, inst in enumerate(test):\n",
        "    pred = cls.classify_instance(inst)\n",
        "    dist = cls.distribution_for_instance(inst)\n",
        "    predictions.append(round(dist[0]))\n",
        "    #print(str(index+1) + \": label index=\" + str(pred) + \", class distribution=\" + str(dist))\n",
        "\n",
        "print(cls)"
      ],
      "execution_count": null,
      "outputs": [
        {
          "output_type": "stream",
          "text": [
            "FURIA rules:\n",
            "===========\n",
            "\n",
            " => diagnosis=M (CF = 0.0)\n",
            " => diagnosis=M (CF = 0.0)\n",
            " => diagnosis=M (CF = 0.0)\n",
            "(perimeter_worst in [-inf, -inf, 105, 106.4]) => diagnosis=B (CF = 0.94)\n",
            " => diagnosis=B (CF = 0.0)\n",
            "(perimeter_worst in [-inf, -inf, 117.2, 126.9]) and (texture_mean in [-inf, -inf, 19.6, 21.46]) => diagnosis=B (CF = 0.91)\n",
            " => diagnosis=B (CF = 0.0)\n",
            "\n",
            "Number of Rules : 7\n",
            "\n"
          ],
          "name": "stdout"
        }
      ]
    }
  ]
}